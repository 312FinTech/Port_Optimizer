{
 "cells": [
  {
   "cell_type": "markdown",
   "id": "a4eb920b-07e2-4452-bb83-8d203f764408",
   "metadata": {},
   "source": [
    "Curve fitting is a type of optimization that finds an optimal set of parameters for a defined function that best fits a given set of observations.\n",
    "\n",
    "Unlike supervised learning, curve fitting requires that you define the function that maps examples of inputs to outputs.\n",
    "\n",
    "The mapping function, also called the basis function can have any form you like, including a straight line (linear regression), a curved line (polynomial regression), and much more. This provides the flexibility and control to define the form of the curve, where an optimization process is used to find the specific optimal parameters of the function.\n",
    "\n",
    "In this tutorial, you will discover how to perform curve fitting in Python.\n",
    "\n",
    "After completing this tutorial, you will know:\n",
    "\n",
    "Curve fitting involves finding the optimal parameters to a function that maps examples of inputs to outputs.\n",
    "The SciPy Python library provides an API to fit a curve to a dataset.\n",
    "How to use curve fitting in SciPy to fit a range of different curves to a set of observations."
   ]
  },
  {
   "cell_type": "code",
   "execution_count": 1,
   "id": "3c68c414-5179-42dc-a68a-76bebf60037d",
   "metadata": {},
   "outputs": [],
   "source": [
    "import numpy as np\n",
    "import numpy as arrange\n",
    "from numpy import array, exp\n",
    "from scipy.optimize import curve_fit\n",
    "import matplotlib.pyplot as plt "
   ]
  },
  {
   "cell_type": "markdown",
   "id": "b50baf63-3d4e-4f74-b7a7-2ef61c6f14d4",
   "metadata": {},
   "source": [
    "Tutorial Overview\n",
    "This tutorial is divided into three parts; they are:\n",
    "\n",
    "    Curve Fitting\n",
    "    Curve Fitting Python API\n",
    "    Curve Fitting Worked Example\n",
    "\n",
    "Curve Fitting\n",
    "Curve fitting is an optimization problem that finds a line that best fits a collection of observations.\n",
    "\n",
    "It is easiest to think about curve fitting in two dimensions, such as a graph.\n",
    "\n",
    "Consider that we have collected examples of data from the problem domain with inputs and outputs.\n",
    "\n",
    "The x-axis is the independent variable or the input to the function. The y-axis is the dependent variable or the output of the function. We don’t know the form of the function that maps examples of inputs to outputs, but we suspect that we can approximate the function with a standard function form.\n",
    "\n",
    "Curve fitting involves first defining the functional form of the mapping function (also called the basis function or objective function), then searching for the parameters to the function that result in the minimum error.\n",
    "\n",
    "Error is calculated by using the observations from the domain and passing the inputs to our candidate mapping function and calculating the output, then comparing the calculated output to the observed output.\n",
    "\n",
    "Once fit, we can use the mapping function to interpolate or extrapolate new points in the domain. It is common to run a sequence of input values through the mapping function to calculate a sequence of outputs, then create a line plot of the result to show how output varies with input and how well the line fits the observed points.\n",
    "\n",
    "The key to curve fitting is the form of the mapping function.\n",
    "\n",
    "A straight line between inputs and outputs can be defined as follows:\n",
    "\n",
    "y = a * x + b\n",
    "Where y is the calculated output, x is the input, and a and b are parameters of the mapping function found using an optimization algorithm.\n",
    "\n",
    "This is called a linear equation because it is a weighted sum of the inputs.\n",
    "\n",
    "In a linear regression model, these parameters are referred to as coefficients; in a neural network, they are referred to as weights.\n",
    "\n",
    "This equation can be generalized to any number of inputs, meaning that the notion of curve fitting is not limited to two-dimensions (one input and one output), but could have many input variables.\n",
    "\n",
    "For example, a line mapping function for two input variables may look as follows:\n",
    "\n",
    "y = a1 * x1 + a2 * x2 + b\n",
    "The equation does not have to be a straight line.\n",
    "\n",
    "We can add curves in the mapping function by adding exponents. For example, we can add a squared version of the input weighted by another parameter:\n",
    "\n",
    "y = a * x + b * x^2 + c\n",
    "This is called polynomial regression, and the squared term means it is a second-degree polynomial.\n",
    "\n",
    "So far, linear equations of this type can be fit by minimizing least squares and can be calculated analytically. This means we can find the optimal values of the parameters using a little linear algebra.\n",
    "\n",
    "We might also want to add other mathematical functions to the equation, such as sine, cosine, and more. Each term is weighted with a parameter and added to the whole to give the output; for example:\n",
    "\n",
    "y = a * sin(b * x) + c\n",
    "Adding arbitrary mathematical functions to our mapping function generally means we cannot calculate the parameters analytically, and instead, we will need to use an iterative optimization algorithm.\n",
    "\n",
    "This is called nonlinear least squares, as the objective function is no longer convex (it’s nonlinear) and not as easy to solve.\n",
    "\n",
    "Now that we are familiar with curve fitting, let’s look at how we might perform curve fitting in Python.\n",
    "\n"
   ]
  },
  {
   "cell_type": "markdown",
   "id": "15a922e8-e8b5-4071-8ca2-80a02f37ae03",
   "metadata": {},
   "source": []
  },
  {
   "cell_type": "markdown",
   "id": "cc4f372c-1bf9-4022-8250-2ec2c5637159",
   "metadata": {},
   "source": [
    "Curve Fitting Python API\n",
    "We can perform curve fitting for our dataset in Python.\n",
    "\n",
    "The SciPy open source library provides the curve_fit() function for curve fitting via nonlinear least squares.\n",
    "\n",
    "The function takes the same input and output data as arguments, as well as the name of the mapping function to use.\n",
    "\n",
    "The mapping function must take examples of input data and some number of arguments. These remaining arguments will be the coefficients or weight constants that will be optimized by a nonlinear least squares optimization process.\n",
    "\n",
    "For example, we may have some observations from our domain loaded as input variables x and output variables y."
   ]
  },
  {
   "cell_type": "code",
   "execution_count": 2,
   "id": "b4d658cb-0957-4d75-8ad1-2f42c4aeb743",
   "metadata": {},
   "outputs": [],
   "source": [
    "# load input variables from a file\n",
    "x_values = ...\n",
    "y_values = ..."
   ]
  },
  {
   "cell_type": "markdown",
   "id": "abb1f268-afeb-462e-a965-0f47a553d1d5",
   "metadata": {},
   "source": [
    "Next, we need to design a mapping function to fit a line to the data and implement it as a Python function that takes inputs and the arguments.\n",
    "\n",
    "It may be a straight line, in which case it would look as follows:"
   ]
  },
  {
   "cell_type": "code",
   "execution_count": 3,
   "id": "67774958-9642-4a0f-a11f-eb25edffea7c",
   "metadata": {},
   "outputs": [],
   "source": [
    "# objective function\n",
    "def objective(x, a, b, c):\n",
    "\treturn a * x + b"
   ]
  },
  {
   "cell_type": "markdown",
   "id": "b559eddb-022a-4147-b1e2-2071bc4e5cf4",
   "metadata": {},
   "source": [
    "We can then call the curve_fit() function to fit a straight line to the dataset using our defined function.\n",
    "\n",
    "The function curve_fit() returns the optimal values for the mapping function, e.g, the coefficient values. It also returns a covariance matrix for the estimated parameters, but we can ignore that for now."
   ]
  },
  {
   "cell_type": "raw",
   "id": "c6e5ef0c-2352-47f6-9182-b435e5245075",
   "metadata": {},
   "source": [
    "# fit curve\n",
    "popt, _ = curve_fit(objective, x_values, y_values)"
   ]
  },
  {
   "cell_type": "markdown",
   "id": "c781bd80-6708-46da-a7a7-19076ba507ee",
   "metadata": {},
   "source": [
    "Once fit, we can use the optimal parameters and our mapping function objective() to calculate the output for any arbitrary input.\n",
    "\n",
    "This might include the output for the examples we have already collected from the domain, it might include new values that interpolate observed values, or it might include extrapolated values outside of the limits of what was observed."
   ]
  },
  {
   "cell_type": "raw",
   "id": "414391d5-45b0-489f-af0f-fff701623b38",
   "metadata": {},
   "source": [
    "# define new input values\n",
    "x_new = ...\n",
    "# unpack optima parameters for the objective function\n",
    "a, b, c = popt\n",
    "# use optimal parameters to calculate new values\n",
    "y_new = objective(x_new, a, b, c)"
   ]
  },
  {
   "cell_type": "markdown",
   "id": "d501e1d7-0bdf-43bc-bd6c-752404be44c1",
   "metadata": {},
   "source": [
    "Curve Fitting Worked Example\n",
    "We will develop a curve to fit some real world observations of economic data.\n",
    "\n",
    "In this example, we will use the so-called “Longley’s Economic Regression” dataset; you can learn more about it here:\n",
    "\n",
    "Longley’s Economic Regression (longley.csv)\n",
    "Longley’s Economic Regression Description (longley.names)\n",
    "We will download the dataset automatically as part of the worked example.\n",
    "\n",
    "There are seven input variables and 16 rows of data, where each row defines a summary of economic details for a year between 1947 to 1962.\n",
    "\n",
    "In this example, we will explore fitting a line between population size and the number of people employed for each year.\n",
    "\n",
    "The example below loads the dataset from the URL, selects the input variable as “population,” and the output variable as “employed” and creates a scatter plot."
   ]
  },
  {
   "cell_type": "code",
   "execution_count": 4,
   "id": "4e449bee-ec2f-49a6-87d1-473c76afc74c",
   "metadata": {},
   "outputs": [
    {
     "data": {
      "image/png": "[encoded data removed]",
      "text/plain": [
       "<Figure size 432x288 with 1 Axes>"
      ]
     },
     "metadata": {
      "needs_background": "light"
     },
     "output_type": "display_data"
    }
   ],
   "source": [
    "# plot \"Population\" vs \"Employed\"\n",
    "from pandas import read_csv\n",
    "from matplotlib import pyplot\n",
    "# load the dataset\n",
    "url = 'https://raw.githubusercontent.com/jbrownlee/Datasets/master/longley.csv'\n",
    "dataframe = read_csv(url, header=None)\n",
    "data = dataframe.values\n",
    "# choose the input and output variables\n",
    "x, y = data[:, 4], data[:, -1]\n",
    "# plot input vs output\n",
    "pyplot.scatter(x, y)\n",
    "pyplot.show()\n",
    "\n",
    "#We can see that there is a relationship between the two variables. Specifically, that as the \n",
    "#population increases, the total number of employees increases."
   ]
  },
  {
   "cell_type": "code",
   "execution_count": 5,
   "id": "4ed71f9d-a429-45ea-bab2-97e77e06de11",
   "metadata": {},
   "outputs": [],
   "source": [
    "# define the true objective function\n",
    "def objective(x, a, b):\n",
    "\treturn a * x + b"
   ]
  },
  {
   "cell_type": "code",
   "execution_count": 6,
   "id": "fe4b03c2-754d-4263-a57d-ec75d120bc7d",
   "metadata": {},
   "outputs": [
    {
     "name": "stdout",
     "output_type": "stream",
     "text": [
      "y = 0.48488 * x + 8.38067\n"
     ]
    }
   ],
   "source": [
    "# curve fit\n",
    "popt, _ = curve_fit(objective, x, y)\n",
    "# summarize the parameter values\n",
    "a, b = popt\n",
    "print('y = %.5f * x + %.5f' % (a, b))\n",
    "\n",
    "# We can use curve fitting to find the optimal values of “a” and “b” and summarize the values \n",
    "#that were found:"
   ]
  },
  {
   "cell_type": "code",
   "execution_count": 7,
   "id": "656da158-4731-4a12-9cc4-fa39b0f29d16",
   "metadata": {},
   "outputs": [
    {
     "data": {
      "text/plain": [
       "<matplotlib.collections.PathCollection at 0x7ff2077d03d0>"
      ]
     },
     "execution_count": 7,
     "metadata": {},
     "output_type": "execute_result"
    },
    {
     "data": {
      "image/png": "[encoded data removed]",
      "text/plain": [
       "<Figure size 432x288 with 1 Axes>"
      ]
     },
     "metadata": {
      "needs_background": "light"
     },
     "output_type": "display_data"
    }
   ],
   "source": [
    "# plot input vs output\n",
    "pyplot.scatter(x, y)"
   ]
  },
  {
   "cell_type": "code",
   "execution_count": 8,
   "id": "dda6ebab-b977-42b3-8d29-fdaf4e55b51a",
   "metadata": {},
   "outputs": [
    {
     "data": {
      "text/plain": [
       "[<matplotlib.lines.Line2D at 0x7ff207ab58b0>]"
      ]
     },
     "execution_count": 8,
     "metadata": {},
     "output_type": "execute_result"
    },
    {
     "data": {
      "image/png": "[encoded data removed]",
      "text/plain": [
       "<Figure size 432x288 with 1 Axes>"
      ]
     },
     "metadata": {
      "needs_background": "light"
     },
     "output_type": "display_data"
    }
   ],
   "source": [
    "# define a sequence of inputs between the smallest and largest known inputs\n",
    "x_line = np.arange(min(x), max(x), 1)\n",
    "\n",
    "# calculate the output for the range\n",
    "y_line = objective(x_line, a, b)\n",
    "\n",
    "# create a line plot for the mapping function\n",
    "pyplot.plot(x_line, y_line, '--', color='red')"
   ]
  },
  {
   "cell_type": "code",
   "execution_count": 9,
   "id": "490940d1-90e3-4c34-b80e-24e147dcb636",
   "metadata": {},
   "outputs": [
    {
     "name": "stdout",
     "output_type": "stream",
     "text": [
      "y = 0.48488 * x + 8.38067\n"
     ]
    },
    {
     "data": {
      "image/png": "[encoded data removed]",
      "text/plain": [
       "<Figure size 432x288 with 1 Axes>"
      ]
     },
     "metadata": {
      "needs_background": "light"
     },
     "output_type": "display_data"
    }
   ],
   "source": [
    "# fit a straight line to the economic data\n",
    "from numpy import arange\n",
    "from pandas import read_csv\n",
    "from scipy.optimize import curve_fit\n",
    "from matplotlib import pyplot\n",
    "\n",
    "# define the true objective function\n",
    "def objective(x, a, b):\n",
    "\treturn a * x + b\n",
    "\n",
    "# load the dataset\n",
    "url = 'https://raw.githubusercontent.com/jbrownlee/Datasets/master/longley.csv'\n",
    "dataframe = read_csv(url, header=None)\n",
    "data = dataframe.values\n",
    "# choose the input and output variables\n",
    "x, y = data[:, 4], data[:, -1]\n",
    "# curve fit\n",
    "popt, _ = curve_fit(objective, x, y)\n",
    "# summarize the parameter values\n",
    "a, b = popt\n",
    "print('y = %.5f * x + %.5f' % (a, b))\n",
    "# plot input vs output\n",
    "pyplot.scatter(x, y)\n",
    "# define a sequence of inputs between the smallest and largest known inputs\n",
    "x_line = arange(min(x), max(x), 1)\n",
    "# calculate the output for the range\n",
    "y_line = objective(x_line, a, b)\n",
    "# create a line plot for the mapping function\n",
    "pyplot.plot(x_line, y_line, '--', color='red')\n",
    "pyplot.show()"
   ]
  },
  {
   "cell_type": "code",
   "execution_count": 10,
   "id": "ba70e120-fa8b-4cdc-a1b0-d5763fef98c4",
   "metadata": {},
   "outputs": [],
   "source": [
    "# define the true objective function\n",
    "def objective(x, a, b, c):\n",
    "\treturn a * x + b * x**2 + c"
   ]
  },
  {
   "cell_type": "code",
   "execution_count": 11,
   "id": "1549607f-0e03-4e2e-8716-1be0b8e87dc6",
   "metadata": {},
   "outputs": [
    {
     "name": "stdout",
     "output_type": "stream",
     "text": [
      "y = 3.25444 * x + -0.01170 * x^2 + -155.02799\n"
     ]
    },
    {
     "data": {
      "image/png": "[encoded data removed]",
      "text/plain": [
       "<Figure size 432x288 with 1 Axes>"
      ]
     },
     "metadata": {
      "needs_background": "light"
     },
     "output_type": "display_data"
    }
   ],
   "source": [
    "# fit a second degree polynomial to the economic data\n",
    "from numpy import arange\n",
    "from pandas import read_csv\n",
    "from scipy.optimize import curve_fit\n",
    "from matplotlib import pyplot\n",
    "\n",
    "# define the true objective function\n",
    "def objective(x, a, b, c):\n",
    "\treturn a * x + b * x**2 + c\n",
    "\n",
    "# load the dataset\n",
    "url = 'https://raw.githubusercontent.com/jbrownlee/Datasets/master/longley.csv'\n",
    "dataframe = read_csv(url, header=None)\n",
    "data = dataframe.values\n",
    "# choose the input and output variables\n",
    "x, y = data[:, 4], data[:, -1]\n",
    "# curve fit\n",
    "popt, _ = curve_fit(objective, x, y)\n",
    "# summarize the parameter values\n",
    "a, b, c = popt\n",
    "print('y = %.5f * x + %.5f * x^2 + %.5f' % (a, b, c))\n",
    "# plot input vs output\n",
    "pyplot.scatter(x, y)\n",
    "# define a sequence of inputs between the smallest and largest known inputs\n",
    "x_line = arange(min(x), max(x), 1)\n",
    "# calculate the output for the range\n",
    "y_line = objective(x_line, a, b, c)\n",
    "# create a line plot for the mapping function\n",
    "pyplot.plot(x_line, y_line, '--', color='red')\n",
    "pyplot.show()"
   ]
  },
  {
   "cell_type": "code",
   "execution_count": 12,
   "id": "7cc22c4d-52c0-4a7c-931c-c0192e045baf",
   "metadata": {},
   "outputs": [
    {
     "data": {
      "image/png": "[encoded data removed]",
      "text/plain": [
       "<Figure size 432x288 with 1 Axes>"
      ]
     },
     "metadata": {
      "needs_background": "light"
     },
     "output_type": "display_data"
    }
   ],
   "source": [
    "# fit a fifth degree polynomial to the economic data\n",
    "from numpy import arange\n",
    "from pandas import read_csv\n",
    "from scipy.optimize import curve_fit\n",
    "from matplotlib import pyplot\n",
    "\n",
    "# define the true objective function\n",
    "def objective(x, a, b, c, d, e, f):\n",
    "\treturn (a * x) + (b * x**2) + (c * x**3) + (d * x**4) + (e * x**5) + f\n",
    "\n",
    "# load the dataset\n",
    "url = 'https://raw.githubusercontent.com/jbrownlee/Datasets/master/longley.csv'\n",
    "dataframe = read_csv(url, header=None)\n",
    "data = dataframe.values\n",
    "# choose the input and output variables\n",
    "x, y = data[:, 4], data[:, -1]\n",
    "# curve fit\n",
    "popt, _ = curve_fit(objective, x, y)\n",
    "# summarize the parameter values\n",
    "a, b, c, d, e, f = popt\n",
    "# plot input vs output\n",
    "pyplot.scatter(x, y)\n",
    "# define a sequence of inputs between the smallest and largest known inputs\n",
    "x_line = arange(min(x), max(x), 1)\n",
    "# calculate the output for the range\n",
    "y_line = objective(x_line, a, b, c, d, e, f)\n",
    "# create a line plot for the mapping function\n",
    "pyplot.plot(x_line, y_line, '--', color='red')\n",
    "pyplot.show()"
   ]
  },
  {
   "cell_type": "markdown",
   "id": "cf210af5-68db-463e-ada3-4d3e98cc790d",
   "metadata": {},
   "source": [
    "More Sine and Cosine examples"
   ]
  },
  {
   "cell_type": "code",
   "execution_count": 13,
   "id": "acd59f7c-b8d7-4f92-9532-710f0b2f24a0",
   "metadata": {},
   "outputs": [
    {
     "data": {
      "image/png": "[encoded data removed]",
      "text/plain": [
       "<Figure size 432x288 with 1 Axes>"
      ]
     },
     "metadata": {
      "needs_background": "light"
     },
     "output_type": "display_data"
    }
   ],
   "source": [
    "import numpy as np \n",
    "from matplotlib import pyplot as plt \n",
    "\n",
    "x = np.arange(1,11) \n",
    "y = 2 * x + 5 \n",
    "plt.title(\"Matplotlib demo\") \n",
    "plt.xlabel(\"x axis caption\") \n",
    "plt.ylabel(\"y axis caption\") \n",
    "plt.plot(x,y,\"ob\") \n",
    "plt.show() "
   ]
  },
  {
   "cell_type": "code",
   "execution_count": 14,
   "id": "c8a83148-f065-4573-b764-990df72af726",
   "metadata": {},
   "outputs": [
    {
     "data": {
      "image/png": "[encoded data removed]",
      "text/plain": [
       "<Figure size 432x288 with 1 Axes>"
      ]
     },
     "metadata": {
      "needs_background": "light"
     },
     "output_type": "display_data"
    }
   ],
   "source": [
    "import numpy as np \n",
    "import matplotlib.pyplot as plt  \n",
    "\n",
    "# Compute the x and y coordinates for points on a sine curve \n",
    "x = np.arange(0, 3 * np.pi, 0.1) \n",
    "y = np.sin(x) \n",
    "plt.title(\"sine wave form\") \n",
    "\n",
    "# Plot the points using matplotlib \n",
    "plt.plot(x, y) \n",
    "plt.show() "
   ]
  },
  {
   "cell_type": "code",
   "execution_count": 15,
   "id": "e2692f35-3955-4f8d-8011-f0858a0b8820",
   "metadata": {},
   "outputs": [
    {
     "data": {
      "image/png": "[encoded data removed]",
      "text/plain": [
       "<Figure size 432x288 with 2 Axes>"
      ]
     },
     "metadata": {
      "needs_background": "light"
     },
     "output_type": "display_data"
    }
   ],
   "source": [
    "import numpy as np \n",
    "import matplotlib.pyplot as plt  \n",
    "   \n",
    "# Compute the x and y coordinates for points on sine and cosine curves \n",
    "x = np.arange(0, 3 * np.pi, 0.1) \n",
    "y_sin = np.sin(x) \n",
    "y_cos = np.cos(x)  \n",
    "   \n",
    "# Set up a subplot grid that has height 2 and width 1, \n",
    "# and set the first such subplot as active. \n",
    "plt.subplot(2, 1, 1)\n",
    "   \n",
    "# Make the first plot \n",
    "plt.plot(x, y_sin) \n",
    "plt.title('Sine')  \n",
    "   \n",
    "# Set the second subplot as active, and make the second plot. \n",
    "plt.subplot(2, 1, 2) \n",
    "plt.plot(x, y_cos) \n",
    "plt.title('Cosine')  \n",
    "   \n",
    "# Show the figure. \n",
    "plt.show()\n"
   ]
  },
  {
   "cell_type": "code",
   "execution_count": 16,
   "id": "a1c75348-9977-4d78-a492-34097325a390",
   "metadata": {},
   "outputs": [
    {
     "data": {
      "image/png": "[encoded data removed]",
      "text/plain": [
       "<Figure size 432x288 with 1 Axes>"
      ]
     },
     "metadata": {
      "needs_background": "light"
     },
     "output_type": "display_data"
    }
   ],
   "source": [
    "from matplotlib import pyplot as plt \n",
    "x = [5,8,10] \n",
    "y = [12,16,6]  \n",
    "\n",
    "x2 = [6,9,11] \n",
    "y2 = [6,15,7] \n",
    "plt.bar(x, y, align = 'center') \n",
    "plt.bar(x2, y2, color = 'g', align = 'center') \n",
    "plt.title('Bar graph') \n",
    "plt.ylabel('Y axis') \n",
    "plt.xlabel('X axis')  \n",
    "\n",
    "plt.show()"
   ]
  },
  {
   "cell_type": "code",
   "execution_count": null,
   "id": "48c155b8-94f8-47f6-9ce5-f7e20cb89926",
   "metadata": {},
   "outputs": [],
   "source": []
  }
 ],
 "metadata": {
  "kernelspec": {
   "display_name": "Python 3 (ipykernel)",
   "language": "python",
   "name": "python3"
  },
  "language_info": {
   "codemirror_mode": {
    "name": "ipython",
    "version": 3
   },
   "file_extension": ".py",
   "mimetype": "text/x-python",
   "name": "python",
   "nbconvert_exporter": "python",
   "pygments_lexer": "ipython3",
   "version": "3.8.8"
  }
 },
 "nbformat": 4,
 "nbformat_minor": 5
}

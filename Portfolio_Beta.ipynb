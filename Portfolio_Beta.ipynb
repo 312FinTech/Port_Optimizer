{
 "cells": [
  {
   "cell_type": "code",
   "execution_count": 1,
   "id": "476a3c46-f7e9-48b3-bdbe-37d78c762a7e",
   "metadata": {},
   "outputs": [],
   "source": [
    "import pandas as pd\n",
    "import numpy as np\n",
    "import matplotlib.pyplot as plt\n",
    "import pandas_datareader as web\n",
    "from scipy import stats\n",
    "import seaborn as sns"
   ]
  },
  {
   "cell_type": "code",
   "execution_count": 2,
   "id": "1cf755ea-f5ec-4b3d-81b0-22b9587ffdbf",
   "metadata": {},
   "outputs": [],
   "source": [
    "# Create a list of tickers and weights\n",
    "tickers = ['OXY', 'LRCX', 'APA', 'AMAT', 'MRO', 'MU', 'FANG', 'MCHP', 'DVN', 'KLAC']\n",
    "wts = [0.10,0.10,0.10,0.10,0.10,0.10,0.10,0.10,0.10,0.10]"
   ]
  },
  {
   "cell_type": "code",
   "execution_count": null,
   "id": "7211cd29-018f-4b79-92b1-f6a1cfc61edf",
   "metadata": {},
   "outputs": [],
   "source": [
    "price_data = web.get_data_yahoo(tickers,\n",
    "                               start = '2017-02-15',\n",
    "                               end = '2022-02-16')\n",
    "price_data = price_data['Adj Close']\n"
   ]
  },
  {
   "cell_type": "code",
   "execution_count": null,
   "id": "19c2b3cb-1d54-4a88-a1cb-476cfa696f82",
   "metadata": {},
   "outputs": [],
   "source": [
    "ret_data = price_data.pct_change()[1:]"
   ]
  },
  {
   "cell_type": "code",
   "execution_count": null,
   "id": "87dfc9b2-0d4f-47c6-bee3-d5f4794f9e56",
   "metadata": {},
   "outputs": [],
   "source": [
    "port_ret = (ret_data * wts).sum(axis = 1)"
   ]
  },
  {
   "cell_type": "code",
   "execution_count": null,
   "id": "7e708f93-b684-49a3-aa5f-10bda2654e25",
   "metadata": {},
   "outputs": [],
   "source": [
    "benchmark_price = web.get_data_yahoo('^GSPC',\n",
    "                               start = '2017-02-15',\n",
    "                               end = '2022-02-16')\n",
    "                               \n",
    "benchmark_ret = benchmark_price[\"Adj Close\"].pct_change()[1:]\n"
   ]
  },
  {
   "cell_type": "code",
   "execution_count": null,
   "id": "59920599-26ea-466a-9a37-fbf993cd80e7",
   "metadata": {},
   "outputs": [],
   "source": [
    "sns.regplot(benchmark_ret.values,\n",
    "port_ret.values)\n",
    "plt.xlabel(\"Benchmark Returns\")\n",
    "plt.ylabel(\"Portfolio Returns\")\n",
    "plt.title(\"Portfolio Returns vs Benchmark Returns\")\n",
    "plt.show()"
   ]
  },
  {
   "cell_type": "code",
   "execution_count": null,
   "id": "344bb331-02b1-4ead-8b83-f6aa2e469f67",
   "metadata": {},
   "outputs": [],
   "source": [
    "(beta, alpha) = stats.linregress(benchmark_ret.values,\n",
    "                port_ret.values)[0:2]\n",
    "                \n",
    "print(\"The portfolio beta is\", round(beta, 4))"
   ]
  },
  {
   "cell_type": "code",
   "execution_count": null,
   "id": "ce33a8f5-20e0-4b39-9ba3-b50fb116efb6",
   "metadata": {},
   "outputs": [],
   "source": [
    "print(\"The portfolio alpha is\", round(alpha,5))"
   ]
  },
  {
   "cell_type": "code",
   "execution_count": null,
   "id": "8e2da68f-7125-4238-8e58-957ac7a8bff8",
   "metadata": {},
   "outputs": [],
   "source": []
  }
 ],
 "metadata": {
  "kernelspec": {
   "display_name": "Python 3 (ipykernel)",
   "language": "python",
   "name": "python3"
  },
  "language_info": {
   "codemirror_mode": {
    "name": "ipython",
    "version": 3
   },
   "file_extension": ".py",
   "mimetype": "text/x-python",
   "name": "python",
   "nbconvert_exporter": "python",
   "pygments_lexer": "ipython3",
   "version": "3.8.2"
  }
 },
 "nbformat": 4,
 "nbformat_minor": 5
}
